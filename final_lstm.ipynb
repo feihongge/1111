{
 "cells": [
  {
   "cell_type": "code",
   "execution_count": 1,
   "id": "initial_id",
   "metadata": {
    "ExecuteTime": {
     "end_time": "2025-04-10T13:21:03.225824Z",
     "start_time": "2025-04-10T13:20:59.614256Z"
    }
   },
   "outputs": [],
   "source": [
    "import torch\n",
    "import torch.nn as nn\n",
    "import pandas as pd\n",
    "import numpy as np\n",
    "import matplotlib.pyplot as plt\n",
    "import json\n",
    "from sklearn.preprocessing import MinMaxScaler\n",
    "from torch.utils.data import Dataset, DataLoader\n",
    "from collections import Counter"
   ]
  },
  {
   "cell_type": "code",
   "execution_count": 2,
   "id": "18cf06ae08680a1d",
   "metadata": {
    "ExecuteTime": {
     "end_time": "2025-04-10T13:21:15.982112Z",
     "start_time": "2025-04-10T13:21:15.522990Z"
    }
   },
   "outputs": [
    {
     "data": {
      "text/html": [
       "<div>\n",
       "<style scoped>\n",
       "    .dataframe tbody tr th:only-of-type {\n",
       "        vertical-align: middle;\n",
       "    }\n",
       "\n",
       "    .dataframe tbody tr th {\n",
       "        vertical-align: top;\n",
       "    }\n",
       "\n",
       "    .dataframe thead th {\n",
       "        text-align: right;\n",
       "    }\n",
       "</style>\n",
       "<table border=\"1\" class=\"dataframe\">\n",
       "  <thead>\n",
       "    <tr style=\"text-align: right;\">\n",
       "      <th></th>\n",
       "      <th>date</th>\n",
       "      <th>word</th>\n",
       "      <th>count</th>\n",
       "    </tr>\n",
       "  </thead>\n",
       "  <tbody>\n",
       "    <tr>\n",
       "      <th>0</th>\n",
       "      <td>2025-03-22 00:05:02</td>\n",
       "      <td>电动车</td>\n",
       "      <td>73</td>\n",
       "    </tr>\n",
       "    <tr>\n",
       "      <th>1</th>\n",
       "      <td>2025-03-22 00:05:02</td>\n",
       "      <td>道</td>\n",
       "      <td>22</td>\n",
       "    </tr>\n",
       "    <tr>\n",
       "      <th>2</th>\n",
       "      <td>2025-03-22 00:05:02</td>\n",
       "      <td>非机动车</td>\n",
       "      <td>31</td>\n",
       "    </tr>\n",
       "    <tr>\n",
       "      <th>3</th>\n",
       "      <td>2025-03-22 00:05:02</td>\n",
       "      <td>走</td>\n",
       "      <td>37</td>\n",
       "    </tr>\n",
       "    <tr>\n",
       "      <th>4</th>\n",
       "      <td>2025-03-22 00:05:02</td>\n",
       "      <td>人</td>\n",
       "      <td>116</td>\n",
       "    </tr>\n",
       "    <tr>\n",
       "      <th>...</th>\n",
       "      <td>...</td>\n",
       "      <td>...</td>\n",
       "      <td>...</td>\n",
       "    </tr>\n",
       "    <tr>\n",
       "      <th>4420</th>\n",
       "      <td>2024-10-05 00:05:02</td>\n",
       "      <td>允许</td>\n",
       "      <td>1</td>\n",
       "    </tr>\n",
       "    <tr>\n",
       "      <th>4421</th>\n",
       "      <td>2024-10-05 00:05:02</td>\n",
       "      <td>停车场</td>\n",
       "      <td>2</td>\n",
       "    </tr>\n",
       "    <tr>\n",
       "      <th>4422</th>\n",
       "      <td>2024-10-05 00:05:02</td>\n",
       "      <td>小哥</td>\n",
       "      <td>0</td>\n",
       "    </tr>\n",
       "    <tr>\n",
       "      <th>4423</th>\n",
       "      <td>2024-10-05 00:05:02</td>\n",
       "      <td>地铁</td>\n",
       "      <td>0</td>\n",
       "    </tr>\n",
       "    <tr>\n",
       "      <th>4424</th>\n",
       "      <td>2024-10-05 00:05:02</td>\n",
       "      <td>超标</td>\n",
       "      <td>0</td>\n",
       "    </tr>\n",
       "  </tbody>\n",
       "</table>\n",
       "<p>4425 rows × 3 columns</p>\n",
       "</div>"
      ],
      "text/plain": [
       "                     date  word  count\n",
       "0     2025-03-22 00:05:02   电动车     73\n",
       "1     2025-03-22 00:05:02     道     22\n",
       "2     2025-03-22 00:05:02  非机动车     31\n",
       "3     2025-03-22 00:05:02     走     37\n",
       "4     2025-03-22 00:05:02     人    116\n",
       "...                   ...   ...    ...\n",
       "4420  2024-10-05 00:05:02    允许      1\n",
       "4421  2024-10-05 00:05:02   停车场      2\n",
       "4422  2024-10-05 00:05:02    小哥      0\n",
       "4423  2024-10-05 00:05:02    地铁      0\n",
       "4424  2024-10-05 00:05:02    超标      0\n",
       "\n",
       "[4425 rows x 3 columns]"
      ]
     },
     "execution_count": 2,
     "metadata": {},
     "output_type": "execute_result"
    }
   ],
   "source": [
    "# ==================== 1. 数据预处理 ====================\n",
    "# 读取原始数据\n",
    "raw_data = pd.read_excel('result_data.xlsx', header=None)\n",
    "\n",
    "\n",
    "# 解析原始数据函数\n",
    "def parse_data(raw):\n",
    "    data = []\n",
    "    current_date = None\n",
    "    for row in raw.values:\n",
    "        if len(str(row[0])) > 12:  # 时间戳行\n",
    "            current_date = row[1].split(' ~ ')[0]\n",
    "        elif isinstance(row[0], str):\n",
    "            data.append({\n",
    "                'date': current_date,\n",
    "                'word': row[0].strip(),  # 增加strip处理\n",
    "                'count': int(row[1])\n",
    "            })\n",
    "    return pd.DataFrame(data)\n",
    "\n",
    "\n",
    "# 加载目标词\n",
    "with open('target_words.txt', 'r', encoding='utf-8') as f:\n",
    "    target_words = [w.strip() for w in f.readlines()]\n",
    "\n",
    "# 生成原始数据框\n",
    "df = parse_data(raw_data)\n",
    "df"
   ]
  },
  {
   "cell_type": "code",
   "execution_count": 3,
   "id": "516a401444b8b37f",
   "metadata": {
    "ExecuteTime": {
     "end_time": "2025-04-10T13:22:22.197287Z",
     "start_time": "2025-04-10T13:22:22.189446Z"
    }
   },
   "outputs": [
    {
     "data": {
      "text/plain": [
       "['电动车',\n",
       " '人',\n",
       " '自行车',\n",
       " '非机动车',\n",
       " '道',\n",
       " '骑',\n",
       " '电动',\n",
       " '问题',\n",
       " '电鸡',\n",
       " '摩托车',\n",
       " '汽车',\n",
       " '外卖',\n",
       " '走',\n",
       " '限速',\n",
       " '广州',\n",
       " '车',\n",
       " '速度',\n",
       " '机动车',\n",
       " '应该',\n",
       " '人行道',\n",
       " '城市',\n",
       " '机动车道',\n",
       " '四轮',\n",
       " '快',\n",
       " '国标',\n",
       " '摩托',\n",
       " '跑',\n",
       " '知道',\n",
       " '限制',\n",
       " '停',\n",
       " '安全',\n",
       " '电瓶车',\n",
       " '道路',\n",
       " '需要',\n",
       " '驾照',\n",
       " '路',\n",
       " '管理',\n",
       " '禁',\n",
       " '逆行',\n",
       " '禁摩',\n",
       " '交通',\n",
       " '抓',\n",
       " '交警',\n",
       " '撞',\n",
       " '送',\n",
       " '电驴',\n",
       " '建议',\n",
       " '改装',\n",
       " '只能',\n",
       " '头盔',\n",
       " '行人',\n",
       " '牌',\n",
       " '开车',\n",
       " '解决',\n",
       " '两轮',\n",
       " '罚款',\n",
       " '路上',\n",
       " '事故',\n",
       " '太',\n",
       " '闯红灯',\n",
       " '根本',\n",
       " '上路',\n",
       " '车道',\n",
       " '电',\n",
       " '单车',\n",
       " '不用',\n",
       " '时速',\n",
       " '出行',\n",
       " '标准',\n",
       " '平台',\n",
       " '电摩',\n",
       " '不要',\n",
       " '规划',\n",
       " '禁止',\n",
       " '需求',\n",
       " '骑车',\n",
       " '规定',\n",
       " '支持',\n",
       " '时间',\n",
       " '视频',\n",
       " '违停',\n",
       " '罚',\n",
       " '死',\n",
       " '超速',\n",
       " '违法',\n",
       " '钱',\n",
       " '电车',\n",
       " '乱',\n",
       " '危险',\n",
       " '违规',\n",
       " '停车',\n",
       " '考驾照',\n",
       " '共享',\n",
       " '必须',\n",
       " '保险',\n",
       " '违章',\n",
       " '情况',\n",
       " '要求',\n",
       " '上班',\n",
       " '行驶']"
      ]
     },
     "execution_count": 3,
     "metadata": {},
     "output_type": "execute_result"
    }
   ],
   "source": [
    "# ==================== 2. 高频词筛选 ====================\n",
    "# 加载真实情感词典\n",
    "with open('sentiment_dict.json', 'r', encoding='utf-8') as f:\n",
    "    sentiment_dict = json.load(f)\n",
    "\n",
    "# 统计总词频并优先选择有情感值的词\n",
    "word_counts = df.groupby('word')['count'].sum().sort_values(ascending=False)\n",
    "selected_words = [word for word in word_counts.index\n",
    "                  if word in sentiment_dict.keys()][:100]  # 优化筛选逻辑\n",
    "\n",
    "selected_words"
   ]
  },
  {
   "cell_type": "code",
   "execution_count": 4,
   "id": "1aa40cb7b85dfd95",
   "metadata": {
    "ExecuteTime": {
     "end_time": "2025-04-10T15:02:23.663984Z",
     "start_time": "2025-04-10T15:02:23.646382Z"
    }
   },
   "outputs": [],
   "source": [
    "# ==================== 3. 情感值计算 ====================\n",
    "# 生成情感矩阵\n",
    "def calculate_sentiment(pivot_df):\n",
    "    sentiment_values = []\n",
    "    for _, row in pivot_df.iterrows():\n",
    "        total = 0\n",
    "        for word in selected_words:\n",
    "            # 严格匹配处理\n",
    "            clean_word = word.strip().replace(\" \", \"\")\n",
    "            total += row[word] * sentiment_dict.get(clean_word, 0)\n",
    "        sentiment_values.append(total)\n",
    "    return np.array(sentiment_values)\n",
    "\n",
    "\n",
    "# 构建数据管道\n",
    "pivot_df = df.pivot(index='date', columns='word', values='count').fillna(0)\n",
    "pivot_df = pivot_df[selected_words]  # 仅保留选定词\n",
    "sentiment_series = calculate_sentiment(pivot_df)\n",
    "\n",
    "# 归一化情感值（根据真实值域[-0.6054, 0.5269调整）\n",
    "scaler = MinMaxScaler(feature_range=(-1, 1))\n",
    "normalized_sentiment = scaler.fit_transform(sentiment_series.reshape(-1, 1))"
   ]
  },
  {
   "cell_type": "code",
   "execution_count": 5,
   "id": "c4eb2cf6cb9626be",
   "metadata": {
    "ExecuteTime": {
     "end_time": "2025-04-10T15:02:28.535372Z",
     "start_time": "2025-04-10T15:02:28.530291Z"
    }
   },
   "outputs": [],
   "source": [
    "# ==================== 4. 数据集构建 ====================\n",
    "class SentimentDataset(Dataset):\n",
    "    def __init__(self, data, time_steps=7):\n",
    "        self.time_steps = time_steps\n",
    "        self.X, self.y = self.create_sequences(data)\n",
    "\n",
    "    def create_sequences(self, data):\n",
    "        X, y = [], []\n",
    "        for i in range(len(data) - self.time_steps):\n",
    "            X.append(data[i:i + self.time_steps])\n",
    "            y.append(data[i + self.time_steps])\n",
    "        return torch.FloatTensor(np.array(X)), torch.FloatTensor(np.array(y))\n",
    "\n",
    "    def __len__(self):\n",
    "        return len(self.X)\n",
    "\n",
    "    def __getitem__(self, idx):\n",
    "        return self.X[idx], self.y[idx]\n",
    "\n",
    "\n",
    "# 参数设置\n",
    "time_steps = 7  # 使用7天预测第8天\n",
    "dataset = SentimentDataset(normalized_sentiment, time_steps)\n",
    "\n",
    "# 划分数据集\n",
    "train_size = int(0.8 * len(dataset))\n",
    "train_dataset, val_dataset = torch.utils.data.random_split(\n",
    "    dataset, [train_size, len(dataset) - train_size])"
   ]
  },
  {
   "cell_type": "code",
   "execution_count": 6,
   "id": "f6b5043f573f48f3",
   "metadata": {
    "ExecuteTime": {
     "end_time": "2025-04-10T15:04:35.574734Z",
     "start_time": "2025-04-10T15:04:35.569408Z"
    }
   },
   "outputs": [],
   "source": [
    "# ==================== 5. LSTM模型 ====================\n",
    "class SentimentLSTM(nn.Module):\n",
    "    def __init__(self):\n",
    "        super().__init__()\n",
    "        self.lstm = nn.LSTM(\n",
    "            input_size=1,\n",
    "            hidden_size=64,\n",
    "            \n",
    "            batch_first=True\n",
    "        )\n",
    "        self.linear = nn.Sequential(\n",
    "            nn.Linear(64, 1),\n",
    "            nn.Tanh(),\n",
    "            \n",
    "        )\n",
    "        \n",
    "\n",
    "    def forward(self, x):\n",
    "        x, _ = self.lstm(x)\n",
    "        return self.linear(x[:, -1, :])\n",
    "\n",
    "\n",
    "model = SentimentLSTM()\n",
    "optimizer = torch.optim.Adam(model.parameters(), lr=0.001)\n",
    "\n",
    "loss_fn = nn.MSELoss()\n"
   ]
  },
  {
   "cell_type": "code",
   "execution_count": 7,
   "id": "1be2798d752440f9",
   "metadata": {
    "ExecuteTime": {
     "end_time": "2025-04-10T15:04:36.145160Z",
     "start_time": "2025-04-10T15:04:36.071656Z"
    }
   },
   "outputs": [
    {
     "name": "stdout",
     "output_type": "stream",
     "text": [
      "Epoch 1/30 | Train Loss: 0.2167 | Val Loss: 0.1538\n",
      "Epoch 2/30 | Train Loss: 0.2106 | Val Loss: 0.1465\n",
      "Epoch 3/30 | Train Loss: 0.2048 | Val Loss: 0.1394\n",
      "Epoch 4/30 | Train Loss: 0.1993 | Val Loss: 0.1325\n",
      "Epoch 5/30 | Train Loss: 0.1940 | Val Loss: 0.1258\n",
      "Epoch 6/30 | Train Loss: 0.1889 | Val Loss: 0.1193\n",
      "Epoch 7/30 | Train Loss: 0.1841 | Val Loss: 0.1129\n",
      "Epoch 8/30 | Train Loss: 0.1795 | Val Loss: 0.1067\n",
      "Epoch 9/30 | Train Loss: 0.1752 | Val Loss: 0.1008\n",
      "Epoch 10/30 | Train Loss: 0.1713 | Val Loss: 0.0950\n",
      "Epoch 11/30 | Train Loss: 0.1676 | Val Loss: 0.0895\n",
      "Epoch 12/30 | Train Loss: 0.1643 | Val Loss: 0.0843\n",
      "Epoch 13/30 | Train Loss: 0.1614 | Val Loss: 0.0795\n",
      "Epoch 14/30 | Train Loss: 0.1590 | Val Loss: 0.0751\n",
      "Epoch 15/30 | Train Loss: 0.1572 | Val Loss: 0.0712\n",
      "Epoch 16/30 | Train Loss: 0.1560 | Val Loss: 0.0679\n",
      "Epoch 17/30 | Train Loss: 0.1555 | Val Loss: 0.0654\n",
      "Epoch 18/30 | Train Loss: 0.1555 | Val Loss: 0.0635\n",
      "Epoch 19/30 | Train Loss: 0.1560 | Val Loss: 0.0622\n",
      "Epoch 20/30 | Train Loss: 0.1568 | Val Loss: 0.0614\n",
      "Epoch 21/30 | Train Loss: 0.1574 | Val Loss: 0.0608\n",
      "Epoch 22/30 | Train Loss: 0.1577 | Val Loss: 0.0604\n",
      "Epoch 23/30 | Train Loss: 0.1577 | Val Loss: 0.0602\n",
      "Epoch 24/30 | Train Loss: 0.1573 | Val Loss: 0.0601\n",
      "Epoch 25/30 | Train Loss: 0.1566 | Val Loss: 0.0602\n",
      "Epoch 26/30 | Train Loss: 0.1558 | Val Loss: 0.0604\n",
      "Epoch 27/30 | Train Loss: 0.1550 | Val Loss: 0.0608\n",
      "Epoch 28/30 | Train Loss: 0.1543 | Val Loss: 0.0614\n",
      "Epoch 29/30 | Train Loss: 0.1537 | Val Loss: 0.0621\n",
      "Epoch 30/30 | Train Loss: 0.1533 | Val Loss: 0.0628\n"
     ]
    }
   ],
   "source": [
    "# ==================== 6. 训练过程 ====================\n",
    "train_loader = DataLoader(train_dataset, batch_size=16, shuffle=True)\n",
    "val_loader = DataLoader(val_dataset, batch_size=16)\n",
    "\n",
    "train_losses = []\n",
    "val_losses = []\n",
    "\n",
    "for epoch in range(30):\n",
    "    # 训练阶段\n",
    "    model.train()\n",
    "    epoch_loss = 0\n",
    "    for X, y in train_loader:\n",
    "        optimizer.zero_grad()\n",
    "        y_pred = model(X)\n",
    "        loss = loss_fn(y_pred, y)\n",
    "        loss.backward()\n",
    "        optimizer.step()\n",
    "        epoch_loss += loss.item()\n",
    "    train_losses.append(epoch_loss / len(train_loader))\n",
    "    \n",
    "\n",
    "    # 验证阶段\n",
    "    model.eval()\n",
    "    val_loss = 0\n",
    "    with torch.no_grad():\n",
    "        for X, y in val_loader:\n",
    "            y_pred = model(X)\n",
    "            val_loss += loss_fn(y_pred, y).item()\n",
    "    val_losses.append(val_loss / len(val_loader))\n",
    "    \n",
    "\n",
    "    print(f\"Epoch {epoch + 1}/30 | Train Loss: {train_losses[-1]:.4f} | Val Loss: {val_losses[-1]:.4f}\")"
   ]
  },
  {
   "cell_type": "code",
   "execution_count": 8,
   "id": "549f568b7d754234",
   "metadata": {
    "ExecuteTime": {
     "end_time": "2025-04-10T15:04:36.960043Z",
     "start_time": "2025-04-10T15:04:36.845751Z"
    }
   },
   "outputs": [
    {
     "name": "stdout",
     "output_type": "stream",
     "text": [
      "\n",
      "情感词典覆盖率：100.0%\n"
     ]
    },
    {
     "data": {
      "text/plain": [
       "<matplotlib.legend.Legend at 0x21451729f50>"
      ]
     },
     "execution_count": 8,
     "metadata": {},
     "output_type": "execute_result"
    },
    {
     "data": {
      "image/png": "[encoded data removed]",
      "text/plain": [
       "<Figure size 1200x500 with 1 Axes>"
      ]
     },
     "metadata": {},
     "output_type": "display_data"
    }
   ],
   "source": [
    "# ==================== 7. 可视化与验证 ====================\n",
    "# 检查词典覆盖率\n",
    "coverage = len([w for w in selected_words if w in sentiment_dict]) / len(selected_words)\n",
    "print(f\"\\n情感词典覆盖率：{coverage:.1%}\")\n",
    "\n",
    "plt.rcParams['font.sans-serif'] = ['SimHei']\n",
    "# 训练曲线\n",
    "plt.figure(figsize=(12, 5))\n",
    "plt.subplot(1, 2, 1)\n",
    "plt.plot(train_losses, label='训练损失')\n",
    "plt.plot(val_losses, label='验证损失')\n",
    "plt.title('训练过程')\n",
    "plt.xlabel('训练轮次')\n",
    "plt.ylabel('损失值')\n",
    "plt.legend()\n",
    "\n"
   ]
  },
  {
   "cell_type": "code",
   "execution_count": 9,
   "id": "d586e518a1cb8cab",
   "metadata": {
    "ExecuteTime": {
     "end_time": "2025-04-10T15:04:16.018736Z",
     "start_time": "2025-04-10T15:04:15.856308Z"
    }
   },
   "outputs": [
    {
     "data": {
      "image/png": "[encoded data removed]",
      "text/plain": [
       "<Figure size 640x480 with 1 Axes>"
      ]
     },
     "metadata": {},
     "output_type": "display_data"
    }
   ],
   "source": [
    "# 预测结果可视化\n",
    "model.eval()\n",
    "with torch.no_grad():\n",
    "    all_X = torch.stack([x for x, _ in dataset])\n",
    "    if len(all_X.shape) == 2:  # 如果是2D则添加时间步维度\n",
    "     all_X = all_X.unsqueeze(1)\n",
    "    all_pred = model(all_X).numpy().flatten()\n",
    "\n",
    "    true_values = scaler.inverse_transform(dataset.y.numpy().reshape(-1, 1))\n",
    "    pred_values = scaler.inverse_transform(all_pred.reshape(-1, 1))\n",
    "\n",
    "# 日期处理\n",
    "dates = pd.to_datetime(pivot_df.index[time_steps:])\n",
    "plt.rcParams['axes.unicode_minus'] = False\n",
    "plt.subplot(1, 2, 2)\n",
    "plt.plot(dates, true_values, label='真实情感值')\n",
    "plt.plot(dates, pred_values, label='预测值', alpha=0.7)\n",
    "plt.title('情感趋势预测')\n",
    "plt.xlabel('日期')\n",
    "plt.ylabel('标准化情感值')\n",
    "plt.xticks(rotation=45)\n",
    "plt.legend()\n",
    "plt.tight_layout()\n",
    "plt.show()"
   ]
  },
  {
   "cell_type": "code",
   "execution_count": null,
   "id": "572c799a1f5bfdbd",
   "metadata": {},
   "outputs": [],
   "source": []
  }
 ],
 "metadata": {
  "kernelspec": {
   "display_name": "Python 3 (ipykernel)",
   "language": "python",
   "name": "python3"
  },
  "language_info": {
   "codemirror_mode": {
    "name": "ipython",
    "version": 3
   },
   "file_extension": ".py",
   "mimetype": "text/x-python",
   "name": "python",
   "nbconvert_exporter": "python",
   "pygments_lexer": "ipython3",
   "version": "3.11.7"
  }
 },
 "nbformat": 4,
 "nbformat_minor": 5
}
